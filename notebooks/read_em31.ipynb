{
 "cells": [
  {
   "cell_type": "code",
   "execution_count": 1,
   "id": "5e008005",
   "metadata": {},
   "outputs": [],
   "source": [
    "import numpy as np\n",
    "import pynmea2\n",
    "import pandas as pd\n",
    "from matplotlib import pyplot as plt\n",
    "from datetime import datetime, timedelta\n",
    "\n",
    "\n",
    "# Helpers\n",
    "def text_to_bits(text, encoding='windows-1252', errors='surrogatepass'):\n",
    "    bits = bin(int.from_bytes(text.encode(encoding, errors), 'big'))[2:]\n",
    "    return bits.zfill(8 * ((len(bits) + 7) // 8))"
   ]
  },
  {
   "cell_type": "code",
   "execution_count": 2,
   "id": "d8298132",
   "metadata": {},
   "outputs": [],
   "source": [
    "file_path = '../data/em31/0418-grids.R31'\n",
    "r31_file = open(file_path, 'r', encoding='windows-1252')\n",
    "r31_dat = r31_file.readlines()"
   ]
  },
  {
   "cell_type": "code",
   "execution_count": 4,
   "id": "5eef408b",
   "metadata": {},
   "outputs": [],
   "source": [
    "# Get header data\n",
    "if r31_dat[0].startswith('E'):\n",
    "    h_ident = r31_dat[0][0:7] # System ident\n",
    "    h_ver = r31_dat[0][8:12] # Software version\n",
    "    h_type = r31_dat[0][12:15] # GPS or GRD (Grid)\n",
    "    h_units = int(r31_dat[0][15:16]) # 0 = meter, 1 = feet\n",
    "    h_dipole = int(r31_dat[0][16:17]) # 0 = vertical, 1 = horizontal\n",
    "    h_mode = int(r31_dat[0][17:18]) # 0 = auto, 1 = wheel, 2 = manual\n",
    "    h_component = int(r31_dat[0][18:19]) # 0 = Both, 1 = Iphase\n",
    "    h_computer = int(r31_dat[0][22:23]) # no info on what this is\n",
    "else:\n",
    "    print('Error: First line is not a header')"
   ]
  },
  {
   "cell_type": "code",
   "execution_count": 5,
   "id": "bdfb47e8",
   "metadata": {},
   "outputs": [],
   "source": [
    "# Get file data fields\n",
    "if r31_dat[1].startswith('H'):\n",
    "    h_file = r31_dat[1][2:11]\n",
    "    h_time = r31_dat[1][13:18]"
   ]
  },
  {
   "cell_type": "code",
   "execution_count": 6,
   "id": "93a11500",
   "metadata": {},
   "outputs": [],
   "source": [
    "# Get file start stamp\n",
    "if r31_dat[5].startswith('Z'):\n",
    "    h_date = r31_dat[5][1:9]\n",
    "    h_time = r31_dat[5][10:18]"
   ]
  },
  {
   "cell_type": "code",
   "execution_count": 23,
   "id": "e98b2566",
   "metadata": {},
   "outputs": [],
   "source": [
    "# Get timer relation\n",
    "if r31_dat[6].startswith('*'):\n",
    "    epoch_time = r31_dat[6][1:13]\n",
    "    epoch_ms = int(r31_dat[6][13:23])\n",
    "epoch_ts = datetime.strptime(h_date + ' ' + epoch_time, '%d%m%Y %H:%M:%S.%f')"
   ]
  },
  {
   "cell_type": "code",
   "execution_count": 25,
   "id": "52f11735",
   "metadata": {},
   "outputs": [],
   "source": [
    "meas_idx = []; meas_df = pd.DataFrame()\n",
    "for l_num, line in enumerate(r31_dat):\n",
    "    if line.startswith('T'):\n",
    "        meas_idx.append(l_num)\n",
    "        meas_gn = text_to_bits(line[1])\n",
    "        meas_range3 = int(meas_gn[5])\n",
    "        meas_range2 = int(meas_gn[6])\n",
    "        \n",
    "        meas_read1 = float(line[2:7])\n",
    "        meas_read2 = float(line[7:12])\n",
    "        meas_time = int(line[13:23])\n",
    "        \n",
    "        if (meas_range2 == 1) and (meas_range3 == 1):\n",
    "            c_factor = -0.25\n",
    "            i_factor = -0.0025\n",
    "            conductivity =  meas_read1 * c_factor\n",
    "            inphase = meas_read2 * i_factor\n",
    "        else:\n",
    "            conductivity = np.nan\n",
    "            \n",
    "        meas_df = meas_df.append({'time_ms': meas_time,\n",
    "                                  'flags': meas_gn,\n",
    "                                  'range2': meas_range3,\n",
    "                                  'range3': meas_range3,\n",
    "                                  'c_factor': c_factor,\n",
    "                                  'conductivity': conductivity,\n",
    "                                  'inphase': inphase}, ignore_index = True)    "
   ]
  },
  {
   "cell_type": "code",
   "execution_count": 26,
   "id": "b5ba3a62",
   "metadata": {},
   "outputs": [],
   "source": [
    "# Create measurement time stamps\n",
    "meas_df['time_relative'] = meas_df['time_ms'] - epoch_ms\n",
    "meas_df['time_ds'] = np.repeat(epoch_ts, len(meas_df)) + [timedelta(milliseconds=rel) for rel in meas_df['time_relative']]"
   ]
  },
  {
   "cell_type": "code",
   "execution_count": 71,
   "id": "59a5cf22",
   "metadata": {},
   "outputs": [
    {
     "data": {
      "text/html": [
       "<div>\n",
       "<style scoped>\n",
       "    .dataframe tbody tr th:only-of-type {\n",
       "        vertical-align: middle;\n",
       "    }\n",
       "\n",
       "    .dataframe tbody tr th {\n",
       "        vertical-align: top;\n",
       "    }\n",
       "\n",
       "    .dataframe thead th {\n",
       "        text-align: right;\n",
       "    }\n",
       "</style>\n",
       "<table border=\"1\" class=\"dataframe\">\n",
       "  <thead>\n",
       "    <tr style=\"text-align: right;\">\n",
       "      <th></th>\n",
       "      <th>c_factor</th>\n",
       "      <th>conductivity</th>\n",
       "      <th>flags</th>\n",
       "      <th>inphase</th>\n",
       "      <th>range2</th>\n",
       "      <th>range3</th>\n",
       "      <th>time_ms</th>\n",
       "      <th>time_relative</th>\n",
       "      <th>time_ds</th>\n",
       "    </tr>\n",
       "  </thead>\n",
       "  <tbody>\n",
       "    <tr>\n",
       "      <th>0</th>\n",
       "      <td>-0.25</td>\n",
       "      <td>21.25</td>\n",
       "      <td>10000110</td>\n",
       "      <td>20.4775</td>\n",
       "      <td>1.0</td>\n",
       "      <td>1.0</td>\n",
       "      <td>76443268.0</td>\n",
       "      <td>2587.0</td>\n",
       "      <td>2016-04-18 07:51:39.743</td>\n",
       "    </tr>\n",
       "    <tr>\n",
       "      <th>1</th>\n",
       "      <td>-0.25</td>\n",
       "      <td>21.25</td>\n",
       "      <td>10000110</td>\n",
       "      <td>20.4775</td>\n",
       "      <td>1.0</td>\n",
       "      <td>1.0</td>\n",
       "      <td>76444263.0</td>\n",
       "      <td>3582.0</td>\n",
       "      <td>2016-04-18 07:51:40.738</td>\n",
       "    </tr>\n",
       "    <tr>\n",
       "      <th>2</th>\n",
       "      <td>-0.25</td>\n",
       "      <td>21.25</td>\n",
       "      <td>10000110</td>\n",
       "      <td>20.4775</td>\n",
       "      <td>1.0</td>\n",
       "      <td>1.0</td>\n",
       "      <td>76445259.0</td>\n",
       "      <td>4578.0</td>\n",
       "      <td>2016-04-18 07:51:41.734</td>\n",
       "    </tr>\n",
       "    <tr>\n",
       "      <th>3</th>\n",
       "      <td>-0.25</td>\n",
       "      <td>21.50</td>\n",
       "      <td>10000110</td>\n",
       "      <td>20.4775</td>\n",
       "      <td>1.0</td>\n",
       "      <td>1.0</td>\n",
       "      <td>76446254.0</td>\n",
       "      <td>5573.0</td>\n",
       "      <td>2016-04-18 07:51:42.729</td>\n",
       "    </tr>\n",
       "    <tr>\n",
       "      <th>4</th>\n",
       "      <td>-0.25</td>\n",
       "      <td>21.25</td>\n",
       "      <td>10000110</td>\n",
       "      <td>20.4775</td>\n",
       "      <td>1.0</td>\n",
       "      <td>1.0</td>\n",
       "      <td>76447250.0</td>\n",
       "      <td>6569.0</td>\n",
       "      <td>2016-04-18 07:51:43.725</td>\n",
       "    </tr>\n",
       "    <tr>\n",
       "      <th>...</th>\n",
       "      <td>...</td>\n",
       "      <td>...</td>\n",
       "      <td>...</td>\n",
       "      <td>...</td>\n",
       "      <td>...</td>\n",
       "      <td>...</td>\n",
       "      <td>...</td>\n",
       "      <td>...</td>\n",
       "      <td>...</td>\n",
       "    </tr>\n",
       "    <tr>\n",
       "      <th>13828</th>\n",
       "      <td>-0.25</td>\n",
       "      <td>-0.75</td>\n",
       "      <td>10000110</td>\n",
       "      <td>20.4775</td>\n",
       "      <td>1.0</td>\n",
       "      <td>1.0</td>\n",
       "      <td>90209077.0</td>\n",
       "      <td>13768396.0</td>\n",
       "      <td>2016-04-18 11:41:05.552</td>\n",
       "    </tr>\n",
       "    <tr>\n",
       "      <th>13829</th>\n",
       "      <td>-0.25</td>\n",
       "      <td>-0.75</td>\n",
       "      <td>10000110</td>\n",
       "      <td>20.4775</td>\n",
       "      <td>1.0</td>\n",
       "      <td>1.0</td>\n",
       "      <td>90210068.0</td>\n",
       "      <td>13769387.0</td>\n",
       "      <td>2016-04-18 11:41:06.543</td>\n",
       "    </tr>\n",
       "    <tr>\n",
       "      <th>13830</th>\n",
       "      <td>-0.25</td>\n",
       "      <td>-0.75</td>\n",
       "      <td>10000110</td>\n",
       "      <td>20.4775</td>\n",
       "      <td>1.0</td>\n",
       "      <td>1.0</td>\n",
       "      <td>90211060.0</td>\n",
       "      <td>13770379.0</td>\n",
       "      <td>2016-04-18 11:41:07.535</td>\n",
       "    </tr>\n",
       "    <tr>\n",
       "      <th>13831</th>\n",
       "      <td>-0.25</td>\n",
       "      <td>-1.00</td>\n",
       "      <td>10000110</td>\n",
       "      <td>20.4775</td>\n",
       "      <td>1.0</td>\n",
       "      <td>1.0</td>\n",
       "      <td>90212050.0</td>\n",
       "      <td>13771369.0</td>\n",
       "      <td>2016-04-18 11:41:08.525</td>\n",
       "    </tr>\n",
       "    <tr>\n",
       "      <th>13832</th>\n",
       "      <td>-0.25</td>\n",
       "      <td>-0.75</td>\n",
       "      <td>10000110</td>\n",
       "      <td>20.4775</td>\n",
       "      <td>1.0</td>\n",
       "      <td>1.0</td>\n",
       "      <td>90213041.0</td>\n",
       "      <td>13772360.0</td>\n",
       "      <td>2016-04-18 11:41:09.516</td>\n",
       "    </tr>\n",
       "  </tbody>\n",
       "</table>\n",
       "<p>13833 rows × 9 columns</p>\n",
       "</div>"
      ],
      "text/plain": [
       "       c_factor  conductivity     flags  inphase  range2  range3     time_ms  \\\n",
       "0         -0.25         21.25  10000110  20.4775     1.0     1.0  76443268.0   \n",
       "1         -0.25         21.25  10000110  20.4775     1.0     1.0  76444263.0   \n",
       "2         -0.25         21.25  10000110  20.4775     1.0     1.0  76445259.0   \n",
       "3         -0.25         21.50  10000110  20.4775     1.0     1.0  76446254.0   \n",
       "4         -0.25         21.25  10000110  20.4775     1.0     1.0  76447250.0   \n",
       "...         ...           ...       ...      ...     ...     ...         ...   \n",
       "13828     -0.25         -0.75  10000110  20.4775     1.0     1.0  90209077.0   \n",
       "13829     -0.25         -0.75  10000110  20.4775     1.0     1.0  90210068.0   \n",
       "13830     -0.25         -0.75  10000110  20.4775     1.0     1.0  90211060.0   \n",
       "13831     -0.25         -1.00  10000110  20.4775     1.0     1.0  90212050.0   \n",
       "13832     -0.25         -0.75  10000110  20.4775     1.0     1.0  90213041.0   \n",
       "\n",
       "       time_relative                 time_ds  \n",
       "0             2587.0 2016-04-18 07:51:39.743  \n",
       "1             3582.0 2016-04-18 07:51:40.738  \n",
       "2             4578.0 2016-04-18 07:51:41.734  \n",
       "3             5573.0 2016-04-18 07:51:42.729  \n",
       "4             6569.0 2016-04-18 07:51:43.725  \n",
       "...              ...                     ...  \n",
       "13828     13768396.0 2016-04-18 11:41:05.552  \n",
       "13829     13769387.0 2016-04-18 11:41:06.543  \n",
       "13830     13770379.0 2016-04-18 11:41:07.535  \n",
       "13831     13771369.0 2016-04-18 11:41:08.525  \n",
       "13832     13772360.0 2016-04-18 11:41:09.516  \n",
       "\n",
       "[13833 rows x 9 columns]"
      ]
     },
     "execution_count": 71,
     "metadata": {},
     "output_type": "execute_result"
    }
   ],
   "source": [
    "meas_df"
   ]
  },
  {
   "cell_type": "code",
   "execution_count": 27,
   "id": "0c743509",
   "metadata": {},
   "outputs": [
    {
     "data": {
      "text/plain": [
       "[<matplotlib.lines.Line2D at 0x2317238c910>]"
      ]
     },
     "execution_count": 27,
     "metadata": {},
     "output_type": "execute_result"
    },
    {
     "data": {
      "image/png": "[encoded data removed]",
      "text/plain": [
       "<Figure size 432x288 with 1 Axes>"
      ]
     },
     "metadata": {
      "needs_background": "light"
     },
     "output_type": "display_data"
    }
   ],
   "source": [
    "plt.plot(meas_df['time_ds'], meas_df['conductivity'])"
   ]
  },
  {
   "cell_type": "code",
   "execution_count": 29,
   "id": "7c3e02d8",
   "metadata": {},
   "outputs": [],
   "source": [
    "r31_gps = r31_dat\n",
    "for index in sorted(meas_idx, reverse=True):\n",
    "    del r31_gps[index]"
   ]
  },
  {
   "cell_type": "code",
   "execution_count": 60,
   "id": "a1ca674e",
   "metadata": {},
   "outputs": [],
   "source": [
    "count = 0\n",
    "gps_sentances = []; gps_sys_ts = []\n",
    "for num, line in enumerate(r31_gps):\n",
    "    if line.startswith('@'):\n",
    "        count = count + 1\n",
    "        # Find the GPS ending line (No more than 6 away)\n",
    "        gps_end = [l.startswith('!') for l in r31_dat[num:num+6]]\n",
    "        gps_end_idx = int(num + np.where(gps_end)[0])\n",
    "        #Parse the GPS data\n",
    "        gps_data = r31_dat[num:gps_end_idx]\n",
    "        gps_data_clean = [dat[1:-1] for dat in gps_data]\n",
    "        gps_data_str = ''.join(gps_data_clean).strip()\n",
    "        try:\n",
    "            gps_msg = pynmea2.parse(gps_data_str)\n",
    "        except:\n",
    "            print('bad gps encoding')\n",
    "            \n",
    "        if isinstance(gps_msg, pynmea2.types.talker.GGA):\n",
    "            gps_end_line = r31_dat[gps_end_idx]\n",
    "            gps_sys_ms = int(gps_end_line[13:23])\n",
    "            gps_sys_rel = gps_sys_ms - epoch_ms\n",
    "            gps_sys_ts.append(epoch_ts + timedelta(milliseconds=gps_sys_rel))\n",
    "            gps_sentances.append(gps_msg)"
   ]
  },
  {
   "cell_type": "code",
   "execution_count": 73,
   "id": "800fa9ab",
   "metadata": {},
   "outputs": [],
   "source": [
    "gps_df = pd.DataFrame()\n",
    "for sidx, msg in enumerate(gps_sentances):\n",
    "    gps_df = gps_df.append({'time_sys':gps_sys_ts[sidx],\n",
    "                            'time_gps':msg.timestamp,\n",
    "                            'fix': msg.gps_qual,\n",
    "                            'nsats': msg.num_sats,\n",
    "                            'hdop': msg.horizontal_dil,\n",
    "                            'alt': msg.altitude,\n",
    "                            'lat': msg.latitude,\n",
    "                            'lat_dir': msg.lat_dir,\n",
    "                            'lon': msg.longitude,\n",
    "                            'lon_dir': msg.lon_dir}, ignore_index = True)"
   ]
  },
  {
   "cell_type": "code",
   "execution_count": 86,
   "id": "4fdedd90",
   "metadata": {},
   "outputs": [],
   "source": [
    "# Drop bad GPS data\n",
    "gps_df = gps_df.loc[(gps_df['fix'] > 0) & (gps_df['fix'] <6)]"
   ]
  },
  {
   "cell_type": "code",
   "execution_count": 90,
   "id": "07e538eb",
   "metadata": {},
   "outputs": [
    {
     "data": {
      "text/plain": [
       "Index(['alt', 'fix', 'hdop', 'lat', 'lat_dir', 'lon', 'lon_dir', 'nsats',\n",
       "       'time_gps', 'time_sys'],\n",
       "      dtype='object')"
      ]
     },
     "execution_count": 90,
     "metadata": {},
     "output_type": "execute_result"
    }
   ],
   "source": [
    "gps_df.columns"
   ]
  },
  {
   "cell_type": "code",
   "execution_count": null,
   "id": "3743f101",
   "metadata": {},
   "outputs": [],
   "source": [
    "pd.merge_asof(df_obs, df_cont[['lat', 'long', 'alt', 'time']], \n",
    "              left_on='ts', right_on='time', direction='nearest')"
   ]
  },
  {
   "cell_type": "code",
   "execution_count": 93,
   "id": "49a8eddc",
   "metadata": {},
   "outputs": [],
   "source": [
    "em31_merged = pd.merge_asof(meas_df, gps_df[['lat', 'lon', 'time_gps', 'time_sys']], \n",
    "                            left_on='time_ds', right_on='time_sys', direction='nearest')"
   ]
  },
  {
   "cell_type": "code",
   "execution_count": 96,
   "id": "4d276c92",
   "metadata": {},
   "outputs": [],
   "source": [
    "time_diff = em31_merged['time_ds'] - em31_merged['time_sys']"
   ]
  },
  {
   "cell_type": "code",
   "execution_count": 108,
   "id": "f2091ff0",
   "metadata": {},
   "outputs": [
    {
     "data": {
      "text/plain": [
       "Timestamp('2016-04-18 07:51:39.743000')"
      ]
     },
     "execution_count": 108,
     "metadata": {},
     "output_type": "execute_result"
    }
   ],
   "source": []
  },
  {
   "cell_type": "code",
   "execution_count": 112,
   "id": "eb9a5886",
   "metadata": {},
   "outputs": [],
   "source": [
    "time_diff = em31_merged['time_sys'] - em31_merged['time_ds']"
   ]
  },
  {
   "cell_type": "code",
   "execution_count": 115,
   "id": "2ce3b3c0",
   "metadata": {},
   "outputs": [],
   "source": [
    "em31_clean = em31_merged.loc[time_diff < timedelta(seconds=1)]"
   ]
  },
  {
   "cell_type": "code",
   "execution_count": 135,
   "id": "67f7e26c",
   "metadata": {},
   "outputs": [],
   "source": [
    "y = (-1/0.826)*np.log((em31_clean['conductivity']-13.404)/1366.4)"
   ]
  },
  {
   "cell_type": "code",
   "execution_count": 136,
   "id": "2706e3ed",
   "metadata": {},
   "outputs": [],
   "source": [
    "x = -(10000*np.log((5*em31_clean['conductivity']-67)/6832))/9823"
   ]
  },
  {
   "cell_type": "code",
   "execution_count": 137,
   "id": "87bf9f46",
   "metadata": {},
   "outputs": [
    {
     "data": {
      "text/plain": [
       "(array([  0.,   0.,   0.,   0.,   0.,   0.,   0.,   0.,   0.,   0.,   0.,\n",
       "          0.,   0.,   0.,   0.,   0.,   0.,   0.,   0.,   0.,   0.,   0.,\n",
       "          0.,   0.,   0.,   0.,   0.,   0.,   0.,   0.,   0.,   0.,   0.,\n",
       "          0.,   0.,   0.,   0.,   0.,   0.,   0.,   0.,   0.,   0.,   0.,\n",
       "          0.,   0.,   0.,   0.,   0.,   0.,   0.,   0.,   0.,   0.,   0.,\n",
       "          0.,   0.,   0.,   0.,   0.,   0.,   0.,   0.,   0.,   0.,   0.,\n",
       "          0.,   0.,   0.,   0.,   0.,   0.,   0.,   0.,   0.,   0.,   0.,\n",
       "          0.,   0.,   0.,   0.,   0.,   0.,   0.,   0.,   0.,   0.,   0.,\n",
       "          0.,   0.,   0.,   0.,   0.,   0.,   0.,   0.,   0.,   0.,   0.,\n",
       "          0.,   0.,   0.,   0.,   0.,   0.,   0.,   0.,   0.,   0.,   0.,\n",
       "          0.,   0.,   0.,   0.,   0.,   0.,   0.,   0.,   0.,   0.,   0.,\n",
       "          0.,   0.,   0.,   0.,   0.,   0.,   0.,   0.,   0.,   0.,   0.,\n",
       "          1.,   3.,   0.,   5.,   3.,  12.,  26.,  26.,  45.,  58.,  96.,\n",
       "         89., 188., 104., 217., 173., 231., 172., 146., 227., 162., 301.,\n",
       "        115., 103., 401., 214., 225., 293., 187., 279., 692., 415., 287.,\n",
       "        602., 372., 381., 307., 289., 558., 449., 160., 144.,  92., 130.,\n",
       "         56.,  49.,  40.,  40.,  20.,  27., 345.,  55.,  23.,   5.,  12.,\n",
       "          3.,   3.,   1.,   2.,   1.,   1.,   0.,   1.,   0.,   1.,   1.,\n",
       "          0.,   0.,   1.,   0.,   1.,   2.,   1.,   0.,   0.,   0.,   1.,\n",
       "          0.,   0.,   1.,   0.,   1.,   0.,   0.,   0.,   0.,   0.,   0.,\n",
       "          0.,   0.,   3.,   0.,   0.,   1.,   0.,   1.,   0.,   0.,   1.,\n",
       "          0.,   2.,   0.,   0.,   0.,   1.,   0.,   0.,   1.,   0.,   0.,\n",
       "          1.,   0.,   1.,   1.,   2.,   0.,   1.,   0.,   2.,   2.,   0.,\n",
       "          1.,   1.,   0.,   0.,   0.,   1.,   0.,   0.,   2.,   0.,   1.,\n",
       "          0.,   1.,   1.,   4.,   3.,   1.,   3.,   0.,   1.,   1.,   4.,\n",
       "          0.,   3.,   1.,   4.,   3.,   2.,   0.,   2.,   1.,   2.,   1.,\n",
       "          1.,   3.,   0.,   4.,   0.,   6.,   3.,   7.,   4.,   0.,  15.,\n",
       "          1.,  14.,   8.,  16.,   5.,   3.,  27.,   0.,  17.,   5.,   1.,\n",
       "         15.,   8.,  15.,   4.,   0.,   9.,   4.,   0.,  10.,   2.,   0.,\n",
       "         10.,   0.,   2.,  11.,   0.,   9.,   0.,   1.,   5.,   0.,   1.,\n",
       "          0.,   8.,   0.,   1.,   7.,   0.,   0.,   8.,   3.,   1.,   2.,\n",
       "          0.,   1.,   1.,   7.,   1.,   0.,   2.,   1.,   0.,   0.,   0.,\n",
       "          0.,   0.,   0.,   1.,   0.,   0.,   1.,   1.,   0.,   0.,   1.,\n",
       "          2.,   0.,   0.,   0.,   3.,   1.,   0.,   0.,   7.,   2.,   0.,\n",
       "          1.,   6.,   2.,   0.,   0.,   0.,   1.,   3.,   0.,   0.,   0.,\n",
       "          5.,  11.,   1.,   2.,   0.,  89.,  54.,   5.,   6.,   0.,  51.,\n",
       "          5.,   0.,   0.]),\n",
       " array([1.  , 1.01, 1.02, 1.03, 1.04, 1.05, 1.06, 1.07, 1.08, 1.09, 1.1 ,\n",
       "        1.11, 1.12, 1.13, 1.14, 1.15, 1.16, 1.17, 1.18, 1.19, 1.2 , 1.21,\n",
       "        1.22, 1.23, 1.24, 1.25, 1.26, 1.27, 1.28, 1.29, 1.3 , 1.31, 1.32,\n",
       "        1.33, 1.34, 1.35, 1.36, 1.37, 1.38, 1.39, 1.4 , 1.41, 1.42, 1.43,\n",
       "        1.44, 1.45, 1.46, 1.47, 1.48, 1.49, 1.5 , 1.51, 1.52, 1.53, 1.54,\n",
       "        1.55, 1.56, 1.57, 1.58, 1.59, 1.6 , 1.61, 1.62, 1.63, 1.64, 1.65,\n",
       "        1.66, 1.67, 1.68, 1.69, 1.7 , 1.71, 1.72, 1.73, 1.74, 1.75, 1.76,\n",
       "        1.77, 1.78, 1.79, 1.8 , 1.81, 1.82, 1.83, 1.84, 1.85, 1.86, 1.87,\n",
       "        1.88, 1.89, 1.9 , 1.91, 1.92, 1.93, 1.94, 1.95, 1.96, 1.97, 1.98,\n",
       "        1.99, 2.  , 2.01, 2.02, 2.03, 2.04, 2.05, 2.06, 2.07, 2.08, 2.09,\n",
       "        2.1 , 2.11, 2.12, 2.13, 2.14, 2.15, 2.16, 2.17, 2.18, 2.19, 2.2 ,\n",
       "        2.21, 2.22, 2.23, 2.24, 2.25, 2.26, 2.27, 2.28, 2.29, 2.3 , 2.31,\n",
       "        2.32, 2.33, 2.34, 2.35, 2.36, 2.37, 2.38, 2.39, 2.4 , 2.41, 2.42,\n",
       "        2.43, 2.44, 2.45, 2.46, 2.47, 2.48, 2.49, 2.5 , 2.51, 2.52, 2.53,\n",
       "        2.54, 2.55, 2.56, 2.57, 2.58, 2.59, 2.6 , 2.61, 2.62, 2.63, 2.64,\n",
       "        2.65, 2.66, 2.67, 2.68, 2.69, 2.7 , 2.71, 2.72, 2.73, 2.74, 2.75,\n",
       "        2.76, 2.77, 2.78, 2.79, 2.8 , 2.81, 2.82, 2.83, 2.84, 2.85, 2.86,\n",
       "        2.87, 2.88, 2.89, 2.9 , 2.91, 2.92, 2.93, 2.94, 2.95, 2.96, 2.97,\n",
       "        2.98, 2.99, 3.  , 3.01, 3.02, 3.03, 3.04, 3.05, 3.06, 3.07, 3.08,\n",
       "        3.09, 3.1 , 3.11, 3.12, 3.13, 3.14, 3.15, 3.16, 3.17, 3.18, 3.19,\n",
       "        3.2 , 3.21, 3.22, 3.23, 3.24, 3.25, 3.26, 3.27, 3.28, 3.29, 3.3 ,\n",
       "        3.31, 3.32, 3.33, 3.34, 3.35, 3.36, 3.37, 3.38, 3.39, 3.4 , 3.41,\n",
       "        3.42, 3.43, 3.44, 3.45, 3.46, 3.47, 3.48, 3.49, 3.5 , 3.51, 3.52,\n",
       "        3.53, 3.54, 3.55, 3.56, 3.57, 3.58, 3.59, 3.6 , 3.61, 3.62, 3.63,\n",
       "        3.64, 3.65, 3.66, 3.67, 3.68, 3.69, 3.7 , 3.71, 3.72, 3.73, 3.74,\n",
       "        3.75, 3.76, 3.77, 3.78, 3.79, 3.8 , 3.81, 3.82, 3.83, 3.84, 3.85,\n",
       "        3.86, 3.87, 3.88, 3.89, 3.9 , 3.91, 3.92, 3.93, 3.94, 3.95, 3.96,\n",
       "        3.97, 3.98, 3.99, 4.  , 4.01, 4.02, 4.03, 4.04, 4.05, 4.06, 4.07,\n",
       "        4.08, 4.09, 4.1 , 4.11, 4.12, 4.13, 4.14, 4.15, 4.16, 4.17, 4.18,\n",
       "        4.19, 4.2 , 4.21, 4.22, 4.23, 4.24, 4.25, 4.26, 4.27, 4.28, 4.29,\n",
       "        4.3 , 4.31, 4.32, 4.33, 4.34, 4.35, 4.36, 4.37, 4.38, 4.39, 4.4 ,\n",
       "        4.41, 4.42, 4.43, 4.44, 4.45, 4.46, 4.47, 4.48, 4.49, 4.5 , 4.51,\n",
       "        4.52, 4.53, 4.54, 4.55, 4.56, 4.57, 4.58, 4.59, 4.6 , 4.61, 4.62,\n",
       "        4.63, 4.64, 4.65, 4.66, 4.67, 4.68, 4.69, 4.7 , 4.71, 4.72, 4.73,\n",
       "        4.74, 4.75, 4.76, 4.77, 4.78, 4.79, 4.8 , 4.81, 4.82, 4.83, 4.84,\n",
       "        4.85, 4.86, 4.87, 4.88, 4.89, 4.9 , 4.91, 4.92, 4.93, 4.94, 4.95,\n",
       "        4.96, 4.97, 4.98, 4.99]),\n",
       " <BarContainer object of 399 artists>)"
      ]
     },
     "execution_count": 137,
     "metadata": {},
     "output_type": "execute_result"
    },
    {
     "data": {
      "image/png": "[encoded data removed]",
      "text/plain": [
       "<Figure size 432x288 with 1 Axes>"
      ]
     },
     "metadata": {
      "needs_background": "light"
     },
     "output_type": "display_data"
    }
   ],
   "source": [
    "bins = np.arange(1, 5, 0.01)\n",
    "plt.hist(x, bins = bins)\n",
    "plt.hist(y, bins = bins, alpha = 0.5)"
   ]
  },
  {
   "cell_type": "code",
   "execution_count": 144,
   "id": "248496cf",
   "metadata": {},
   "outputs": [
    {
     "data": {
      "text/plain": [
       "[<matplotlib.lines.Line2D at 0x23179357bb0>]"
      ]
     },
     "execution_count": 144,
     "metadata": {},
     "output_type": "execute_result"
    },
    {
     "data": {
      "image/png": "[encoded data removed]",
      "text/plain": [
       "<Figure size 432x288 with 1 Axes>"
      ]
     },
     "metadata": {
      "needs_background": "light"
     },
     "output_type": "display_data"
    }
   ],
   "source": [
    "plt.plot(x.rolling(10).mean())"
   ]
  },
  {
   "cell_type": "code",
   "execution_count": 142,
   "id": "bb08deb8",
   "metadata": {},
   "outputs": [
    {
     "data": {
      "text/plain": [
       "1439    NaN\n",
       "1440    NaN\n",
       "1441    NaN\n",
       "1442    NaN\n",
       "1443    NaN\n",
       "         ..\n",
       "13828   NaN\n",
       "13829   NaN\n",
       "13830   NaN\n",
       "13831   NaN\n",
       "13832   NaN\n",
       "Name: conductivity, Length: 12379, dtype: float64"
      ]
     },
     "execution_count": 142,
     "metadata": {},
     "output_type": "execute_result"
    }
   ],
   "source": []
  },
  {
   "cell_type": "code",
   "execution_count": null,
   "id": "eadb09c6",
   "metadata": {},
   "outputs": [],
   "source": []
  }
 ],
 "metadata": {
  "kernelspec": {
   "display_name": "Python 3",
   "language": "python",
   "name": "python3"
  },
  "language_info": {
   "codemirror_mode": {
    "name": "ipython",
    "version": 3
   },
   "file_extension": ".py",
   "mimetype": "text/x-python",
   "name": "python",
   "nbconvert_exporter": "python",
   "pygments_lexer": "ipython3",
   "version": "3.8.10"
  }
 },
 "nbformat": 4,
 "nbformat_minor": 5
}
