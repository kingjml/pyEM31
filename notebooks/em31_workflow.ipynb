{
 "cells": [
  {
   "cell_type": "markdown",
   "metadata": {},
   "source": [
    "# pyEM31 Example Workflow\n",
    "Based on data collected during the 2016 Eureka Experiment"
   ]
  },
  {
   "cell_type": "code",
   "execution_count": 2,
   "metadata": {},
   "outputs": [
    {
     "name": "stdout",
     "output_type": "stream",
     "text": [
      "The autoreload extension is already loaded. To reload it, use:\n",
      "  %reload_ext autoreload\n"
     ]
    }
   ],
   "source": [
    "%load_ext autoreload\n",
    "%autoreload 2\n",
    "\n",
    "# add local git repo directory to import path\n",
    "import sys\n",
    "sys.path.append('..')\n",
    "\n",
    "import pandas as pd\n",
    "import em31"
   ]
  },
  {
   "cell_type": "code",
   "execution_count": 3,
   "metadata": {},
   "outputs": [
    {
     "name": "stdout",
     "output_type": "stream",
     "text": [
      "bad gps encoding @ line 8276\n",
      "bad gps encoding @ line 14348\n",
      "bad gps encoding @ line 24975\n"
     ]
    }
   ],
   "source": [
    "file_path = '../data/em31/041118A.R31'\n",
    "df_em31 = em31.read_r31(file_path, gps_tol = 5)\n",
    "df_em31 = em31.thickness(df_em31, 0.15)"
   ]
  },
  {
   "cell_type": "code",
   "execution_count": 6,
   "metadata": {},
   "outputs": [
    {
     "data": {
      "text/html": [
       "<div>\n",
       "<style scoped>\n",
       "    .dataframe tbody tr th:only-of-type {\n",
       "        vertical-align: middle;\n",
       "    }\n",
       "\n",
       "    .dataframe tbody tr th {\n",
       "        vertical-align: top;\n",
       "    }\n",
       "\n",
       "    .dataframe thead th {\n",
       "        text-align: right;\n",
       "    }\n",
       "</style>\n",
       "<table border=\"1\" class=\"dataframe\">\n",
       "  <thead>\n",
       "    <tr style=\"text-align: right;\">\n",
       "      <th></th>\n",
       "      <th>l_num</th>\n",
       "      <th>time_ms</th>\n",
       "      <th>flags</th>\n",
       "      <th>range2</th>\n",
       "      <th>range3</th>\n",
       "      <th>c_factor</th>\n",
       "      <th>appcond</th>\n",
       "      <th>inph</th>\n",
       "      <th>time_relative</th>\n",
       "      <th>time_ds</th>\n",
       "      <th>lat</th>\n",
       "      <th>lon</th>\n",
       "      <th>time_gps</th>\n",
       "      <th>time_sys</th>\n",
       "      <th>ttem</th>\n",
       "    </tr>\n",
       "  </thead>\n",
       "  <tbody>\n",
       "    <tr>\n",
       "      <th>0</th>\n",
       "      <td>17</td>\n",
       "      <td>101539</td>\n",
       "      <td>10000110</td>\n",
       "      <td>1</td>\n",
       "      <td>1</td>\n",
       "      <td>-0.25</td>\n",
       "      <td>140.00</td>\n",
       "      <td>4.240</td>\n",
       "      <td>2926</td>\n",
       "      <td>2017-04-11 18:15:48.197</td>\n",
       "      <td>83.442198</td>\n",
       "      <td>-64.415393</td>\n",
       "      <td>18:15:52</td>\n",
       "      <td>2017-04-11 18:15:47.942</td>\n",
       "      <td>2.271824</td>\n",
       "    </tr>\n",
       "    <tr>\n",
       "      <th>1</th>\n",
       "      <td>27</td>\n",
       "      <td>102530</td>\n",
       "      <td>10000110</td>\n",
       "      <td>1</td>\n",
       "      <td>1</td>\n",
       "      <td>-0.25</td>\n",
       "      <td>141.00</td>\n",
       "      <td>4.465</td>\n",
       "      <td>3917</td>\n",
       "      <td>2017-04-11 18:15:49.188</td>\n",
       "      <td>83.442199</td>\n",
       "      <td>-64.415383</td>\n",
       "      <td>18:15:53</td>\n",
       "      <td>2017-04-11 18:15:48.942</td>\n",
       "      <td>2.263814</td>\n",
       "    </tr>\n",
       "    <tr>\n",
       "      <th>2</th>\n",
       "      <td>37</td>\n",
       "      <td>103521</td>\n",
       "      <td>10000110</td>\n",
       "      <td>1</td>\n",
       "      <td>1</td>\n",
       "      <td>-0.25</td>\n",
       "      <td>142.00</td>\n",
       "      <td>4.780</td>\n",
       "      <td>4908</td>\n",
       "      <td>2017-04-11 18:15:50.179</td>\n",
       "      <td>83.442200</td>\n",
       "      <td>-64.415368</td>\n",
       "      <td>18:15:54</td>\n",
       "      <td>2017-04-11 18:15:49.942</td>\n",
       "      <td>2.255867</td>\n",
       "    </tr>\n",
       "    <tr>\n",
       "      <th>3</th>\n",
       "      <td>47</td>\n",
       "      <td>104512</td>\n",
       "      <td>10000110</td>\n",
       "      <td>1</td>\n",
       "      <td>1</td>\n",
       "      <td>-0.25</td>\n",
       "      <td>141.25</td>\n",
       "      <td>4.490</td>\n",
       "      <td>5899</td>\n",
       "      <td>2017-04-11 18:15:51.170</td>\n",
       "      <td>83.442200</td>\n",
       "      <td>-64.415366</td>\n",
       "      <td>18:15:55</td>\n",
       "      <td>2017-04-11 18:15:50.942</td>\n",
       "      <td>2.261822</td>\n",
       "    </tr>\n",
       "    <tr>\n",
       "      <th>4</th>\n",
       "      <td>57</td>\n",
       "      <td>105503</td>\n",
       "      <td>10000110</td>\n",
       "      <td>1</td>\n",
       "      <td>1</td>\n",
       "      <td>-0.25</td>\n",
       "      <td>141.00</td>\n",
       "      <td>4.340</td>\n",
       "      <td>6890</td>\n",
       "      <td>2017-04-11 18:15:52.161</td>\n",
       "      <td>83.442200</td>\n",
       "      <td>-64.415362</td>\n",
       "      <td>18:15:56</td>\n",
       "      <td>2017-04-11 18:15:51.943</td>\n",
       "      <td>2.263814</td>\n",
       "    </tr>\n",
       "  </tbody>\n",
       "</table>\n",
       "</div>"
      ],
      "text/plain": [
       "   l_num  time_ms     flags  range2  range3  c_factor  appcond   inph  \\\n",
       "0     17   101539  10000110       1       1     -0.25   140.00  4.240   \n",
       "1     27   102530  10000110       1       1     -0.25   141.00  4.465   \n",
       "2     37   103521  10000110       1       1     -0.25   142.00  4.780   \n",
       "3     47   104512  10000110       1       1     -0.25   141.25  4.490   \n",
       "4     57   105503  10000110       1       1     -0.25   141.00  4.340   \n",
       "\n",
       "   time_relative                 time_ds        lat        lon  time_gps  \\\n",
       "0           2926 2017-04-11 18:15:48.197  83.442198 -64.415393  18:15:52   \n",
       "1           3917 2017-04-11 18:15:49.188  83.442199 -64.415383  18:15:53   \n",
       "2           4908 2017-04-11 18:15:50.179  83.442200 -64.415368  18:15:54   \n",
       "3           5899 2017-04-11 18:15:51.170  83.442200 -64.415366  18:15:55   \n",
       "4           6890 2017-04-11 18:15:52.161  83.442200 -64.415362  18:15:56   \n",
       "\n",
       "                 time_sys      ttem  \n",
       "0 2017-04-11 18:15:47.942  2.271824  \n",
       "1 2017-04-11 18:15:48.942  2.263814  \n",
       "2 2017-04-11 18:15:49.942  2.255867  \n",
       "3 2017-04-11 18:15:50.942  2.261822  \n",
       "4 2017-04-11 18:15:51.943  2.263814  "
      ]
     },
     "execution_count": 6,
     "metadata": {},
     "output_type": "execute_result"
    }
   ],
   "source": [
    "df_em31.head(5)"
   ]
  },
  {
   "cell_type": "code",
   "execution_count": 5,
   "metadata": {},
   "outputs": [
    {
     "data": {
      "text/plain": [
       "<AxesSubplot:>"
      ]
     },
     "execution_count": 5,
     "metadata": {},
     "output_type": "execute_result"
    },
    {
     "data": {
      "image/png": "[encoded data removed]",
      "text/plain": [
       "<Figure size 432x288 with 1 Axes>"
      ]
     },
     "metadata": {
      "needs_background": "light"
     },
     "output_type": "display_data"
    }
   ],
   "source": [
    "df_em31['ttem'].plot()"
   ]
  }
 ],
 "metadata": {
  "interpreter": {
   "hash": "013d9553017a1d6ac49752f39d54df4aa39ea3279389e50dc59a52bf86000ef6"
  },
  "kernelspec": {
   "display_name": "Python 3.8.10 ('py3-pyEM31')",
   "language": "python",
   "name": "python3"
  },
  "language_info": {
   "codemirror_mode": {
    "name": "ipython",
    "version": 3
   },
   "file_extension": ".py",
   "mimetype": "text/x-python",
   "name": "python",
   "nbconvert_exporter": "python",
   "pygments_lexer": "ipython3",
   "version": "3.8.12"
  },
  "orig_nbformat": 4
 },
 "nbformat": 4,
 "nbformat_minor": 2
}
